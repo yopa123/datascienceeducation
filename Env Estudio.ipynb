{
 "cells": [
  {
   "cell_type": "markdown",
   "id": "93d24dd2",
   "metadata": {},
   "source": [
    "## My Jupyter Notebook on IBM Watson Studio"
   ]
  },
  {
   "cell_type": "markdown",
   "id": "10e48cc2",
   "metadata": {},
   "source": [
    "**Juan Pablo Rodríguez**\n",
    "\n",
    "Software Engineer"
   ]
  },
  {
   "cell_type": "markdown",
   "id": "3eea1559",
   "metadata": {},
   "source": [
    "*I am interested in data science as it seems to me that it is a field that opens up many new opportunities when it comes to creating or improving an existing service\n",
    "In previous tasks I mentioned that one of the industries in which I would like to work has to do with commerce in general (meaning stores, vehicle sales or banking services).\n",
    "working with data science opens the door to improving services and understanding consumer behavior*"
   ]
  },
  {
   "cell_type": "markdown",
   "id": "d8fc7012",
   "metadata": {},
   "source": [
    "\n",
    "### The code in cell 5 adds two numbers stored in two variables (a variable called a and another variable called b). once the sum is done, the cell prints the result on the screen ### "
   ]
  },
  {
   "cell_type": "code",
   "execution_count": 3,
   "id": "010adceb",
   "metadata": {},
   "outputs": [
    {
     "name": "stdout",
     "output_type": "stream",
     "text": [
      "10\n"
     ]
    }
   ],
   "source": [
    "a = 5\n",
    "b = 5\n",
    "print(a + b)"
   ]
  },
  {
   "cell_type": "markdown",
   "id": "3eb8ceb3",
   "metadata": {},
   "source": [
    "this is a horizontal rule\n",
    "\n",
    "---\n",
    "\n",
    "* item 1 \n",
    "* item 2\n",
    "* item 3\n",
    "* item 4\n",
    "1. item 1\n",
    "2. item 2\n",
    "3. item 3\n",
    "\n",
    "\n",
    "|id | name | code|\n",
    "|--- | --- | ---|\n",
    "|1 |peter | 246|\n",
    "|2 | daniel | 252|\n",
    "|3 | julia | 745|\n",
    "\n",
    "<a href=\"https://www.google.com\" target=\"_blank\"> go to google </a>\n",
    "\n",
    "![alt text](https://images.pexels.com/photos/45201/kitty-cat-kitten-pet-45201.jpeg?auto=compress&cs=tinysrgb&dpr=1&w=500 \"CatImage\")\n",
    "\n",
    "\n",
    "If you execute the following `command` in the terminal it will help you to know what version of php you have installed.\n",
    "the command is `php -v`\n",
    "\n",
    "> this is a Blockquotes\n",
    "\n",
    "this text has been ~~discarded~~"
   ]
  }
 ],
 "metadata": {
  "kernelspec": {
   "display_name": "Python 3 (ipykernel)",
   "language": "python",
   "name": "python3"
  },
  "language_info": {
   "codemirror_mode": {
    "name": "ipython",
    "version": 3
   },
   "file_extension": ".py",
   "mimetype": "text/x-python",
   "name": "python",
   "nbconvert_exporter": "python",
   "pygments_lexer": "ipython3",
   "version": "3.9.13"
  }
 },
 "nbformat": 4,
 "nbformat_minor": 5
}
